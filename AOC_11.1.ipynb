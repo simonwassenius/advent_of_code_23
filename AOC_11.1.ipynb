{
 "cells": [
  {
   "cell_type": "code",
   "execution_count": 238,
   "id": "90b26480-40a5-4a92-8b27-ed99a5542d07",
   "metadata": {},
   "outputs": [
    {
     "data": {
      "text/plain": [
       "9734203"
      ]
     },
     "execution_count": 238,
     "metadata": {},
     "output_type": "execute_result"
    }
   ],
   "source": [
    "# Read the contents of the file and split it into lines\n",
    "with open(\"AOC2023_11.txt\", \"r\") as file:\n",
    "    f = file.read().split('\\n')\n",
    "\n",
    "\n",
    "cs = []\n",
    "for y, row in enumerate(f):\n",
    "    for x, char in enumerate(row):\n",
    "        if char == \"#\":\n",
    "            cs.append([y,x])\n",
    "\n",
    "\n",
    "def expander(cs, num):\n",
    "    old = 0\n",
    "    add = 0    \n",
    "    for index, row_val in enumerate(cs):\n",
    "\n",
    "        if row_val[num] - old > 1:\n",
    "            add += (row_val[num] - (old + 1))\n",
    "        #     # print(\"MISSING!\")\n",
    "        #     # print(\"adding {} row(s) - Total row(s) added: {}\" .format(row_val[num] - old - 1 , add))\n",
    "        #     # print(row_val[num])        \n",
    "        # else:\n",
    "        #     print(row_val[num])\n",
    "        old = row_val[num]\n",
    "        cs[index][num]  += add\n",
    "    return cs\n",
    "# cs = sorted(cs, key=lambda x: x[1])\n",
    "cs = (expander(cs, 0))\n",
    "cs = expander(sorted(cs, key=lambda x: x[1]), 1)\n",
    "\n",
    "def distance(cs):\n",
    "    dist = 0\n",
    "    for index, row in enumerate(cs, 1):\n",
    "        for rest in range(len(cs)-index):\n",
    "            dist_y = abs(row[0]-cs[index+rest][0])\n",
    "            dist_x = abs(row[1]-cs[index+rest][1])\n",
    "            dist += dist_x + dist_y\n",
    "\n",
    "    return dist\n",
    "\n",
    "ans = distance(cs)\n",
    "ans"
   ]
  }
 ],
 "metadata": {
  "kernelspec": {
   "display_name": "Python 3 (ipykernel)",
   "language": "python",
   "name": "python3"
  },
  "language_info": {
   "codemirror_mode": {
    "name": "ipython",
    "version": 3
   },
   "file_extension": ".py",
   "mimetype": "text/x-python",
   "name": "python",
   "nbconvert_exporter": "python",
   "pygments_lexer": "ipython3",
   "version": "3.9.7"
  }
 },
 "nbformat": 4,
 "nbformat_minor": 5
}
