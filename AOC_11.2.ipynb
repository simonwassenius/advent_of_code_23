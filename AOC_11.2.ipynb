{
 "cells": [
  {
   "cell_type": "code",
   "execution_count": 24,
   "id": "bd9f0532-869f-455b-bc95-f5aa488eff26",
   "metadata": {},
   "outputs": [
    {
     "name": "stdout",
     "output_type": "stream",
     "text": [
      "999999\n",
      "1999998\n",
      "2999997\n",
      "3999996\n",
      "4999995\n",
      "6999993\n",
      "999999\n",
      "1999998\n",
      "2999997\n",
      "3999996\n",
      "4999995\n",
      "5999994\n",
      "6999993\n",
      "568914596391\n"
     ]
    }
   ],
   "source": [
    "# Read the contents of the file and split it into lines\n",
    "with open(\"AOC2023_11.txt\", \"r\") as file:\n",
    "    f = file.read().split('\\n')\n",
    "\n",
    "\n",
    "cs = []\n",
    "for y, row in enumerate(f):\n",
    "    for x, char in enumerate(row):\n",
    "        if char == \"#\":\n",
    "            cs.append([y,x])\n",
    "\n",
    "\n",
    "def expander(cs, num):\n",
    "    old = 0\n",
    "    add = 0    \n",
    "    for index, row_val in enumerate(cs):\n",
    "\n",
    "        if row_val[num] - old > 1:\n",
    "            add += (row_val[num] - (old + 1))*(1000000-1)\n",
    "            print(add)\n",
    "        old = row_val[num]\n",
    "        cs[index][num]  += add\n",
    "    return cs\n",
    "\n",
    "cs = (expander(cs, 0))\n",
    "cs = expander(sorted(cs, key=lambda x: x[1]), 1)\n",
    "\n",
    "def distance(cs):\n",
    "    dist = 0\n",
    "    for index, row in enumerate(cs, 1):\n",
    "        for rest in range(len(cs)-index):\n",
    "            dist_y = abs(row[0]-cs[index+rest][0])\n",
    "            dist_x = abs(row[1]-cs[index+rest][1])\n",
    "            dist += dist_x + dist_y\n",
    "\n",
    "    return dist\n",
    "\n",
    "ans = distance(cs)\n",
    "print(ans)"
   ]
  }
 ],
 "metadata": {
  "kernelspec": {
   "display_name": "Python 3 (ipykernel)",
   "language": "python",
   "name": "python3"
  },
  "language_info": {
   "codemirror_mode": {
    "name": "ipython",
    "version": 3
   },
   "file_extension": ".py",
   "mimetype": "text/x-python",
   "name": "python",
   "nbconvert_exporter": "python",
   "pygments_lexer": "ipython3",
   "version": "3.9.7"
  }
 },
 "nbformat": 4,
 "nbformat_minor": 5
}
