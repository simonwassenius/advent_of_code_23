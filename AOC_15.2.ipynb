{
 "cells": [
  {
   "cell_type": "code",
   "execution_count": 194,
   "id": "8857c798-03e2-4b1f-95f1-2ba3431431ef",
   "metadata": {},
   "outputs": [
    {
     "name": "stderr",
     "output_type": "stream",
     "text": [
      "IOPub data rate exceeded.\n",
      "The Jupyter server will temporarily stop sending output\n",
      "to the client in order to avoid crashing it.\n",
      "To change this limit, set the config variable\n",
      "`--ServerApp.iopub_data_rate_limit`.\n",
      "\n",
      "Current values:\n",
      "ServerApp.iopub_data_rate_limit=1000000.0 (bytes/sec)\n",
      "ServerApp.rate_limit_window=3.0 (secs)\n",
      "\n"
     ]
    },
    {
     "data": {
      "text/plain": [
       "213097"
      ]
     },
     "execution_count": 194,
     "metadata": {},
     "output_type": "execute_result"
    }
   ],
   "source": [
    "# Read the contents of the file and split it into lines\n",
    "with open(\"AOC2023_15.txt\", \"r\") as file:\n",
    "    f = file.read().split(',')\n",
    "\n",
    "# Define HASH algorithm (char)\n",
    "def hash(char, current_value):\n",
    "    current_value += ord(char)\n",
    "    current_value *= 17\n",
    "    current_value %= 256\n",
    "    return current_value\n",
    "\n",
    "# Define HASH algorithm (string)\n",
    "def string_hash(string):\n",
    "    current_value = 0\n",
    "    for char in string:\n",
    "        current_value = hash(char, current_value)\n",
    "    return current_value\n",
    "\n",
    "box = {}\n",
    "for string in f:\n",
    "    print(string, end =\": \")\n",
    "    #Check if its a remover or additioner\n",
    "    if string[-1] == \"-\":\n",
    "        if string_hash(string[0:-1]) in box:\n",
    "            for index, item in enumerate(box[string_hash(string[0:-1])]):   \n",
    "                if string[0:-1] in item:\n",
    "                    del box[string_hash(string[0:-1])][index]\n",
    "                    print(box)            \n",
    "            \n",
    "    else:\n",
    "        print(\"ADD\", end=\" -> \")\n",
    "        print(string[0:-2], end=\" --> \")\n",
    "        print(string_hash(string[0:-2]))\n",
    "        \n",
    "        if string_hash(string[0:-2]) not in box:\n",
    "            box[string_hash(string[0:-2])] = [string[0:-2] + \" \" + string[-1]]\n",
    "            print(box)\n",
    "        else: \n",
    "            added = False\n",
    "            for index, item in enumerate(box[string_hash(string[0:-2])]):   \n",
    "                if string[0:-2] in item:\n",
    "                    box[string_hash(string[0:-2])][index] = string[0:-2] + \" \" + string[-1]\n",
    "                    added = True\n",
    "                    print(box)\n",
    "            if added != True:\n",
    "                add = box[string_hash(string[0:-2])] + [string[0:-2] + \" \" + string[-1]]\n",
    "                box.update({string_hash(string[0:-2]):add}) \n",
    "                print(box)\n",
    "    \n",
    "\n",
    "ans = 0\n",
    "for boxID in box:\n",
    "    for itemID, item in enumerate(box[boxID], start=1):\n",
    "        print(boxID+1, end=\": \")\n",
    "        print(itemID, end=\": \")\n",
    "        print(item[-1])\n",
    "        ans += (boxID+1)*(itemID)*(int(item[-1]))\n",
    "ans"
   ]
  },
  {
   "cell_type": "code",
   "execution_count": 136,
   "id": "318089f0-6e93-4579-8ed0-3a2c38b99768",
   "metadata": {},
   "outputs": [
    {
     "name": "stdout",
     "output_type": "stream",
     "text": [
      "['RN', 'cm 2']\n",
      "['RN']\n"
     ]
    }
   ],
   "source": [
    "box[0]\n",
    "print(box[0])\n",
    "del box[0][1]\n",
    "print(box[0])"
   ]
  },
  {
   "cell_type": "code",
   "execution_count": 76,
   "id": "f1f22573-78ee-408b-af1b-5ee23fceecc1",
   "metadata": {},
   "outputs": [
    {
     "name": "stdout",
     "output_type": "stream",
     "text": [
      "['Hello', 'Hi', 'Hi', 'Hi', 'Hi']\n",
      "Hello\n",
      "Hi\n",
      "Hi\n",
      "Hi\n",
      "Hi\n"
     ]
    }
   ],
   "source": [
    "thisdict = {}\n",
    "thisdict[0] = [\"Hello\"]\n",
    "replace = thisdict[0] + [\"Hi\"]\n",
    "replace += [\"Hi\"]\n",
    "replace += [\"Hi\"]\n",
    "replace += [\"Hi\"]\n",
    "thisdict.update({0:replace})\n",
    "print(thisdict[0])\n",
    "1 in thisdict\n",
    "\n",
    "for strings in thisdict[0]:\n",
    "    print(strings)"
   ]
  }
 ],
 "metadata": {
  "kernelspec": {
   "display_name": "Python 3 (ipykernel)",
   "language": "python",
   "name": "python3"
  },
  "language_info": {
   "codemirror_mode": {
    "name": "ipython",
    "version": 3
   },
   "file_extension": ".py",
   "mimetype": "text/x-python",
   "name": "python",
   "nbconvert_exporter": "python",
   "pygments_lexer": "ipython3",
   "version": "3.9.7"
  }
 },
 "nbformat": 4,
 "nbformat_minor": 5
}
