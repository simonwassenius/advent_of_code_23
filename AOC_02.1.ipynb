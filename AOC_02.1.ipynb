{
 "cells": [
  {
   "cell_type": "code",
   "execution_count": 211,
   "id": "0f0aa07f-8c71-4995-b7db-76257f3c0f57",
   "metadata": {},
   "outputs": [],
   "source": [
    "f = open(\"AOC2023_2.txt\").read()\n",
    "\n",
    "# exists: only 12 red cubes, 13 green cubes, and 14 blue cubes\n",
    "\n",
    "\n",
    "# Split the input string into a list of strings\n",
    "f = f.split('\\n')\n",
    "\n",
    "game_lim = {\n",
    "    'blue': 14,\n",
    "    'red': 12,\n",
    "    'green': 13,\n",
    "}\n"
   ]
  },
  {
   "cell_type": "code",
   "execution_count": 212,
   "id": "c5c6b4f8-c5d1-41c8-96c2-6468ab2b0a31",
   "metadata": {},
   "outputs": [],
   "source": [
    "import re\n",
    "\n",
    "def find_numbers_with_keyword(keyword, input_string):\n",
    "    pattern = re.compile(r'(\\d+)\\s*' + re.escape(keyword))\n",
    "    matches = re.findall(pattern, input_string)\n",
    "    return [int(match) for match in matches]\n"
   ]
  },
  {
   "cell_type": "code",
   "execution_count": 219,
   "id": "f2ff973b-5322-4d0f-be36-54d1e7dc9cae",
   "metadata": {},
   "outputs": [
    {
     "name": "stdout",
     "output_type": "stream",
     "text": [
      "The value to submit is: 2061\n"
     ]
    }
   ],
   "source": [
    "game_n = 0\n",
    "count = 0\n",
    "\n",
    "for games in f:\n",
    "    game_over = 0\n",
    "    game_n +=1\n",
    "    for keyword in game_lim.keys():\n",
    "        result = find_numbers_with_keyword(keyword, games)\n",
    "        for digit in result:\n",
    "            if digit > game_lim[keyword]:\n",
    "                game_over = 1\n",
    "    if game_over == 0:\n",
    "        count += game_n\n",
    "\n",
    "print(\"The value to submit is: {}\" .format(count))"
   ]
  },
  {
   "cell_type": "code",
   "execution_count": null,
   "id": "ce478600-0d4c-4e29-b9ed-8f11c5106687",
   "metadata": {},
   "outputs": [],
   "source": []
  }
 ],
 "metadata": {
  "kernelspec": {
   "display_name": "Python 3 (ipykernel)",
   "language": "python",
   "name": "python3"
  },
  "language_info": {
   "codemirror_mode": {
    "name": "ipython",
    "version": 3
   },
   "file_extension": ".py",
   "mimetype": "text/x-python",
   "name": "python",
   "nbconvert_exporter": "python",
   "pygments_lexer": "ipython3",
   "version": "3.9.7"
  }
 },
 "nbformat": 4,
 "nbformat_minor": 5
}
