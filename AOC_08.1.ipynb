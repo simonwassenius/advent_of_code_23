{
 "cells": [
  {
   "cell_type": "code",
   "execution_count": 4,
   "id": "39a90f96-a825-4169-9665-2ffdad5f8274",
   "metadata": {},
   "outputs": [
    {
     "data": {
      "text/plain": [
       "20093"
      ]
     },
     "execution_count": 4,
     "metadata": {},
     "output_type": "execute_result"
    }
   ],
   "source": [
    "import re\n",
    "\n",
    "\n",
    "f = open(\"AOC2023_8.txt\").read().split('\\n\\n')\n",
    "\n",
    "LR = f[0]\n",
    "mp = f[1].split('\\n')\n",
    "ans = 0\n",
    "result = []\n",
    "\n",
    "for item in mp:\n",
    "    match = re.match(r'([A-Z]+) = \\(([A-Z]+), ([A-Z]+)\\)', item)\n",
    "    if match:\n",
    "        result.append(list(match.groups()))\n",
    "\n",
    "mpR = {}\n",
    "mpL = {}\n",
    "for index, row in enumerate(result):\n",
    "    mpR[result[index][0]] = result[index][2]\n",
    "    mpL[result[index][0]] = result[index][1]\n",
    "\n",
    "path = True\n",
    "i = 0\n",
    "pos = \"AAA\"\n",
    "while path:\n",
    "    if pos == \"ZZZ\":\n",
    "        break\n",
    "    if i == len(LR):\n",
    "        i = 0\n",
    "    if LR[i] == \"R\":\n",
    "        pos = mpR[pos]\n",
    "    else:\n",
    "        pos = mpL[pos]\n",
    "    ans +=1\n",
    "    i += 1\n",
    "ans"
   ]
  }
 ],
 "metadata": {
  "kernelspec": {
   "display_name": "Python 3 (ipykernel)",
   "language": "python",
   "name": "python3"
  },
  "language_info": {
   "codemirror_mode": {
    "name": "ipython",
    "version": 3
   },
   "file_extension": ".py",
   "mimetype": "text/x-python",
   "name": "python",
   "nbconvert_exporter": "python",
   "pygments_lexer": "ipython3",
   "version": "3.9.7"
  }
 },
 "nbformat": 4,
 "nbformat_minor": 5
}
