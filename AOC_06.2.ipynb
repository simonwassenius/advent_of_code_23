{
 "cells": [
  {
   "cell_type": "code",
   "execution_count": 17,
   "id": "39a90f96-a825-4169-9665-2ffdad5f8274",
   "metadata": {},
   "outputs": [
    {
     "name": "stdout",
     "output_type": "stream",
     "text": [
      "36872656\n"
     ]
    }
   ],
   "source": [
    "f = open(\"AOC2023_6.txt\").read().split('\\n')\n",
    "t = f[0].split(\":\").pop(1).split()\n",
    "t2 = int(''.join(t))\n",
    "d = f[1].split(\":\").pop(1).split()\n",
    "d2 = int(''.join(d))\n",
    "\n",
    "ans = 1\n",
    "win = 0\n",
    "for time in range(t2):\n",
    "    if time*(t2-time) > d2:\n",
    "        win += 1\n",
    "ans *= win\n",
    "print(ans)"
   ]
  },
  {
   "cell_type": "code",
   "execution_count": null,
   "id": "1b02d08b-9d77-46e0-89bf-01374dfb395d",
   "metadata": {},
   "outputs": [],
   "source": []
  }
 ],
 "metadata": {
  "kernelspec": {
   "display_name": "Python 3 (ipykernel)",
   "language": "python",
   "name": "python3"
  },
  "language_info": {
   "codemirror_mode": {
    "name": "ipython",
    "version": 3
   },
   "file_extension": ".py",
   "mimetype": "text/x-python",
   "name": "python",
   "nbconvert_exporter": "python",
   "pygments_lexer": "ipython3",
   "version": "3.9.7"
  }
 },
 "nbformat": 4,
 "nbformat_minor": 5
}
