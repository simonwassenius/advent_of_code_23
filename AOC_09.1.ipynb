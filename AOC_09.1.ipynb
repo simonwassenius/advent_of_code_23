{
 "cells": [
  {
   "cell_type": "code",
   "execution_count": 140,
   "id": "bd9f0532-869f-455b-bc95-f5aa488eff26",
   "metadata": {},
   "outputs": [
    {
     "name": "stdout",
     "output_type": "stream",
     "text": [
      "1987402313\n"
     ]
    }
   ],
   "source": [
    "# Read the contents of the file and split it into lines\n",
    "with open(\"AOC2023_9.txt\", \"r\") as file:\n",
    "    f = file.read().split('\\n')\n",
    "\n",
    "# Convert each line into a list of integers\n",
    "result = [list(map(int, line.split())) for line in f]\n",
    "\n",
    "# Initialize the variable to store the final result\n",
    "ans = 0\n",
    "\n",
    "# Iterate through each row in the result\n",
    "for row in result:\n",
    "    i = 0\n",
    "    cont = True\n",
    "    diff_rows = []\n",
    "    diff_end = []\n",
    "\n",
    "    # Append the first row and its last element to diff_end\n",
    "    diff_rows.append(row)\n",
    "    diff_end.append(diff_rows[0][-1])\n",
    "\n",
    "    # Continue until the differences become all zeros\n",
    "    while cont:\n",
    "        # Calculate the differences for the current row/subrow\n",
    "        diff = [diff_rows[i][index + 1] - diff_rows[i][index] for index in range(len(diff_rows[i]) - 1)]\n",
    "\n",
    "        # Append the differences and the last difference to diff_rows and diff_end, respectively\n",
    "        diff_rows.append(diff)\n",
    "        diff_end.append(diff[-1])\n",
    "\n",
    "        # Check if all differences are zeros to exit the loop\n",
    "        if all(x == 0 for x in diff):\n",
    "            ans += sum(diff_end)\n",
    "            cont = False\n",
    "        i += 1\n",
    "\n",
    "# Print the final result\n",
    "print(ans)"
   ]
  }
 ],
 "metadata": {
  "kernelspec": {
   "display_name": "Python 3 (ipykernel)",
   "language": "python",
   "name": "python3"
  },
  "language_info": {
   "codemirror_mode": {
    "name": "ipython",
    "version": 3
   },
   "file_extension": ".py",
   "mimetype": "text/x-python",
   "name": "python",
   "nbconvert_exporter": "python",
   "pygments_lexer": "ipython3",
   "version": "3.9.7"
  }
 },
 "nbformat": 4,
 "nbformat_minor": 5
}
