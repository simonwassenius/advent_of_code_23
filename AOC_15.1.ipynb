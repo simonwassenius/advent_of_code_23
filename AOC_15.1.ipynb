{
 "cells": [
  {
   "cell_type": "code",
   "execution_count": 1,
   "id": "8857c798-03e2-4b1f-95f1-2ba3431431ef",
   "metadata": {},
   "outputs": [
    {
     "data": {
      "text/plain": [
       "520500"
      ]
     },
     "execution_count": 1,
     "metadata": {},
     "output_type": "execute_result"
    }
   ],
   "source": [
    "# Read the contents of the file and split it into lines\n",
    "with open(\"AOC2023_15.txt\", \"r\") as file:\n",
    "    f = file.read().split(',')\n",
    "\n",
    "# f = [row.split(\"\\n\") for row in f]\n",
    "# Define Hash \n",
    "def hash(char, current_value):\n",
    "    current_value += ord(char)\n",
    "    current_value *= 17\n",
    "    current_value %= 256\n",
    "    return current_value\n",
    "\n",
    "# Define string combiner\n",
    "def string_hash(string):\n",
    "    current_value = 0\n",
    "    for char in string:\n",
    "        current_value = hash(char, current_value)\n",
    "    return current_value\n",
    "\n",
    "ans = 0\n",
    "for string in f:\n",
    "    ans += string_hash(string)\n",
    "\n",
    "ans"
   ]
  },
  {
   "cell_type": "code",
   "execution_count": 45,
   "id": "f1f22573-78ee-408b-af1b-5ee23fceecc1",
   "metadata": {},
   "outputs": [
    {
     "data": {
      "text/plain": [
       "1"
      ]
     },
     "execution_count": 45,
     "metadata": {},
     "output_type": "execute_result"
    }
   ],
   "source": [
    "string_hash(\"qp\")"
   ]
  }
 ],
 "metadata": {
  "kernelspec": {
   "display_name": "Python 3 (ipykernel)",
   "language": "python",
   "name": "python3"
  },
  "language_info": {
   "codemirror_mode": {
    "name": "ipython",
    "version": 3
   },
   "file_extension": ".py",
   "mimetype": "text/x-python",
   "name": "python",
   "nbconvert_exporter": "python",
   "pygments_lexer": "ipython3",
   "version": "3.9.7"
  }
 },
 "nbformat": 4,
 "nbformat_minor": 5
}
