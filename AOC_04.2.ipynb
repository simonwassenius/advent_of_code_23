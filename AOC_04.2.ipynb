{
 "cells": [
  {
   "cell_type": "code",
   "execution_count": 68,
   "id": "4b3bae86-05b4-4e46-8b05-d2d20ef78c4a",
   "metadata": {},
   "outputs": [
    {
     "name": "stdout",
     "output_type": "stream",
     "text": [
      "5921508\n"
     ]
    }
   ],
   "source": [
    "import re\n",
    "\n",
    "f = open(\"AOC2023_4.txt\").read()\n",
    "\n",
    "# Split the input string into a list of strings\n",
    "f = f.split('\\n')\n",
    "\n",
    "ans = 0 \n",
    "index_count = [1 for _ in range(len(f))]\n",
    "\n",
    "for index, row in enumerate(f):\n",
    "    correct = 0\n",
    "    row = row.split(\":\")[1].split('|')\n",
    "    row[0] = row[0].split()\n",
    "    row[1] = row[1].split()\n",
    "    for num in row[0]:\n",
    "        if num in row[1]:\n",
    "            correct += 1\n",
    "            index_count[index+correct] += 1*index_count[index]\n",
    "    ans += index_count[index]\n",
    "\n",
    "#for entry in result:\n",
    "print(ans)"
   ]
  },
  {
   "cell_type": "code",
   "execution_count": null,
   "id": "c956b772-ffee-4ec9-8ce5-d707a85f7b2c",
   "metadata": {},
   "outputs": [],
   "source": []
  }
 ],
 "metadata": {
  "kernelspec": {
   "display_name": "Python 3 (ipykernel)",
   "language": "python",
   "name": "python3"
  },
  "language_info": {
   "codemirror_mode": {
    "name": "ipython",
    "version": 3
   },
   "file_extension": ".py",
   "mimetype": "text/x-python",
   "name": "python",
   "nbconvert_exporter": "python",
   "pygments_lexer": "ipython3",
   "version": "3.9.7"
  }
 },
 "nbformat": 4,
 "nbformat_minor": 5
}
