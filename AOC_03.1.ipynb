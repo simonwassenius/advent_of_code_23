{
 "cells": [
  {
   "cell_type": "code",
   "execution_count": 142,
   "id": "8c6c61de-e146-4799-931f-f3f241236213",
   "metadata": {},
   "outputs": [
    {
     "name": "stdout",
     "output_type": "stream",
     "text": [
      "533784\n"
     ]
    }
   ],
   "source": [
    "import re\n",
    "\n",
    "f = open(\"AOC2023_3.txt\").read()\n",
    "\n",
    "# Split the input string into a list of strings\n",
    "f = f.split('\\n')\n",
    "special_characters = \"\"\"!@#$%^&*()-+?_=,<>/\"\"\"\n",
    "count = 0 \n",
    "for row_index, row in enumerate(f):\n",
    "\n",
    "    pattern = re.compile(r'(\\d+)')\n",
    "    matches = re.finditer(pattern, row)\n",
    "    result = []\n",
    "\n",
    "\n",
    "    for index, match in enumerate(matches, start=1):\n",
    "        start_position = match.start()\n",
    "        end = match.end()\n",
    "        length = end - start_position\n",
    "        number = int(match.group())\n",
    "        result.append([index, number, start_position, end, length])\n",
    "    \n",
    "    for entry in result:\n",
    "\n",
    "        s = \"\"\n",
    "        if row_index > 0 and entry[2] > 0:\n",
    "            s += f[row_index - 1][entry[2] - 1]\n",
    "        if row_index > 0:\n",
    "            s += f[row_index - 1][entry[2]:entry[3]]\n",
    "        if row_index > 0 and entry[3] < len(f[row_index - 1]):\n",
    "            s += f[row_index - 1][entry[3]]\n",
    "\n",
    "        if entry[2] > 0:\n",
    "            s += f[row_index][entry[2] - 1]\n",
    "        s += f[row_index][entry[2]:entry[3]]\n",
    "        if entry[3] < len(row):\n",
    "            s += f[row_index][entry[3]]\n",
    "\n",
    "        if row_index < len(f) - 1 and entry[2] > 0 and entry[2] - 1 < len(f[row_index + 1]):\n",
    "            s += f[row_index + 1][entry[2] - 1]\n",
    "        if row_index < len(f) - 1:\n",
    "            s += f[row_index + 1][entry[2]:entry[3]]\n",
    "        if row_index < len(f) - 1 and entry[3] < len(f[row_index + 1]):\n",
    "            s += f[row_index + 1][entry[3]]\n",
    "\n",
    "        if any(c in special_characters for c in s):\n",
    "            count += entry[1]\n",
    "\n",
    "#for entry in result:\n",
    "print(count)"
   ]
  },
  {
   "cell_type": "code",
   "execution_count": 116,
   "id": "f0fbf664-81f4-4ab5-8373-6f875417bc90",
   "metadata": {},
   "outputs": [
    {
     "name": "stdout",
     "output_type": "stream",
     "text": [
      "Error: Index out of range\n"
     ]
    }
   ],
   "source": [
    "try:\n",
    "    if (f[row_index-1][entry[2]-1]):\n",
    "        (f[1][entry[2]-1:entry[3]+1]) += print(f[1][entry[2]-1:entry[3]+1])\n",
    "except IndexError:\n",
    "    print(\"Error: Index out of range\")\n",
    "\n",
    "    \n"
   ]
  },
  {
   "cell_type": "code",
   "execution_count": null,
   "id": "8b7e2f1e-4044-43b4-b6ac-3dab1f293498",
   "metadata": {},
   "outputs": [],
   "source": []
  }
 ],
 "metadata": {
  "kernelspec": {
   "display_name": "Python 3 (ipykernel)",
   "language": "python",
   "name": "python3"
  },
  "language_info": {
   "codemirror_mode": {
    "name": "ipython",
    "version": 3
   },
   "file_extension": ".py",
   "mimetype": "text/x-python",
   "name": "python",
   "nbconvert_exporter": "python",
   "pygments_lexer": "ipython3",
   "version": "3.9.7"
  }
 },
 "nbformat": 4,
 "nbformat_minor": 5
}
