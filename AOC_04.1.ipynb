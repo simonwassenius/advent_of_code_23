{
 "cells": [
  {
   "cell_type": "code",
   "execution_count": 122,
   "id": "4b3bae86-05b4-4e46-8b05-d2d20ef78c4a",
   "metadata": {},
   "outputs": [
    {
     "name": "stdout",
     "output_type": "stream",
     "text": [
      "18653\n"
     ]
    }
   ],
   "source": [
    "import re\n",
    "\n",
    "f = open(\"AOC2023_4.txt\").read()\n",
    "\n",
    "# Split the input string into a list of strings\n",
    "f = f.split('\\n')\n",
    "f.pop()\n",
    "\n",
    "ans = 0 \n",
    "for row in f:\n",
    "    correct = 0\n",
    "    points = 0\n",
    "    row = row.split(\":\")[1].split('|')\n",
    "    row[0] = row[0].split()\n",
    "    row[1] = row[1].split()\n",
    "    for num in row[0]:\n",
    "        if num in row[1]:\n",
    "            correct += 1\n",
    "    if correct != 0:\n",
    "        points += 2**(correct-1)\n",
    "        ans += points\n",
    "    #for num in row[0]:\n",
    "    #    print(num)\n",
    "    #ans += \n",
    "\n",
    "    \n",
    "\n",
    "#for entry in result:\n",
    "print(ans)"
   ]
  },
  {
   "cell_type": "code",
   "execution_count": null,
   "id": "fc1db01b-db9e-4337-afc6-0834fbb13044",
   "metadata": {},
   "outputs": [],
   "source": []
  }
 ],
 "metadata": {
  "kernelspec": {
   "display_name": "Python 3 (ipykernel)",
   "language": "python",
   "name": "python3"
  },
  "language_info": {
   "codemirror_mode": {
    "name": "ipython",
    "version": 3
   },
   "file_extension": ".py",
   "mimetype": "text/x-python",
   "name": "python",
   "nbconvert_exporter": "python",
   "pygments_lexer": "ipython3",
   "version": "3.9.7"
  }
 },
 "nbformat": 4,
 "nbformat_minor": 5
}
