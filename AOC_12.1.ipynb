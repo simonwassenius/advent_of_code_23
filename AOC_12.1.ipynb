{
 "cells": [
  {
   "cell_type": "code",
   "execution_count": 1,
   "id": "9bae5dfd-0182-4b64-b966-f95d20a6322f",
   "metadata": {},
   "outputs": [
    {
     "name": "stdout",
     "output_type": "stream",
     "text": [
      "['.##????.?.#.?????', '4,1,1,3,1']\n",
      "4:   # # ? ? ? ? \n",
      "1:   # # ? ? ? ? \n",
      "1:   # # ? ? ? ? \n",
      "3:   # # ? ? ? ? \n",
      "1:   # # ? ? ? ? \n",
      "['???#??.?#??.?', '2,2']\n",
      "2:   ? ? ? # ? ? \n",
      "2:   ? ? ? # ? ? \n",
      "['???#??#?#?#???#???#?', '8,9']\n",
      "8:   ? ? ? # ? ? # ? # \n",
      "9:   ? ? ? # ? ? # ? # \n"
     ]
    }
   ],
   "source": [
    "# Read the contents of the file and split it into lines\n",
    "with open(\"AOC2023_12.txt\", \"r\") as file:\n",
    "    f = file.read().split('\\n')\n",
    "\n",
    "f = [row.split() for row in f]\n",
    "\n",
    "f = f[0:3]\n",
    "\n",
    "for row in f:\n",
    "    print(row)\n",
    "    for dmg in row[1].split(\",\"):\n",
    "        search = True\n",
    "        i = 0\n",
    "        start = False\n",
    "        print(dmg, end =\":   \")\n",
    "        while search:\n",
    "            if (row[0][i] == \"#\" or row[0][i] == \"?\"):\n",
    "                print(row[0][i], end = \" \")\n",
    "                start = True\n",
    "                \n",
    "            elif start:\n",
    "                search = False\n",
    "            if i == 8:\n",
    "                search = False\n",
    "            i += 1\n",
    "        print()"
   ]
  },
  {
   "cell_type": "code",
   "execution_count": 119,
   "id": "54e718e3-d05d-436a-95e5-c8afd16f0d2e",
   "metadata": {},
   "outputs": [
    {
     "ename": "SyntaxError",
     "evalue": "invalid syntax (862108529.py, line 6)",
     "output_type": "error",
     "traceback": [
      "\u001b[1;36m  Cell \u001b[1;32mIn[119], line 6\u001b[1;36m\u001b[0m\n\u001b[1;33m    f = [group size.split(\",\") for group, size in f]\u001b[0m\n\u001b[1;37m               ^\u001b[0m\n\u001b[1;31mSyntaxError\u001b[0m\u001b[1;31m:\u001b[0m invalid syntax\n"
     ]
    }
   ],
   "source": [
    "# Read the contents of the file and split it into lines\n",
    "with open(\"AOC2023_12.txt\", \"r\") as file:\n",
    "    f = file.read().split('\\n')\n",
    "\n",
    "f = [row.split() for row in f]\n",
    "f = [group size.split(\",\") for group, size in f]\n",
    "# f = [[\"?###????????\", \"3,2,1\"],[\"?###????????\", \"3,2,1\"]]\n",
    "for group, sizes in f:\n",
    "    print(group, end=\" : \")\n",
    "    print(sizes)\n",
    "    for dmg in sizes.split(\",\"):\n",
    "        dc = []\n",
    "        search = True\n",
    "        i = 0\n",
    "        start = False\n",
    "        print(dmg, end =\":   \")\n",
    "        \n",
    "        while search:\n",
    "            if row[0][i] == \"#\":\n",
    "                print(row[0][i], end = \" \")\n",
    "                start = True\n",
    "                dc.append(row[0][i])\n",
    "            elif row[0][i] == \"?\":\n",
    "                print(row[0][i], end = \" \")\n",
    "                start = True\n",
    "                dc.append(row[0][i])\n",
    "                                \n",
    "            elif start:\n",
    "                search = False\n",
    "            if i == 8:\n",
    "                search = False\n",
    "            i += 1\n",
    "        print()\n",
    "        print(\"{}:   {}\".format(dmg,' '.join(dc)))\n",
    "        print(\"--\")"
   ]
  }
 ],
 "metadata": {
  "kernelspec": {
   "display_name": "Python 3 (ipykernel)",
   "language": "python",
   "name": "python3"
  },
  "language_info": {
   "codemirror_mode": {
    "name": "ipython",
    "version": 3
   },
   "file_extension": ".py",
   "mimetype": "text/x-python",
   "name": "python",
   "nbconvert_exporter": "python",
   "pygments_lexer": "ipython3",
   "version": "3.9.7"
  }
 },
 "nbformat": 4,
 "nbformat_minor": 5
}
