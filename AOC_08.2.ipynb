{
 "cells": [
  {
   "cell_type": "code",
   "execution_count": 62,
   "id": "bd9f0532-869f-455b-bc95-f5aa488eff26",
   "metadata": {},
   "outputs": [
    {
     "name": "stdout",
     "output_type": "stream",
     "text": [
      "22103062509257\n"
     ]
    }
   ],
   "source": [
    "import re\n",
    "import math\n",
    "\n",
    "f = open(\"AOC2023_8.txt\").read().split('\\n\\n')\n",
    "\n",
    "LR = f[0]\n",
    "mp = f[1].split('\\n')\n",
    "ans = 0\n",
    "result = []\n",
    "\n",
    "for item in mp:\n",
    "    match = re.match(r'([A-Z]+) = \\(([A-Z]+), ([A-Z]+)\\)', item)\n",
    "    if match:\n",
    "        result.append(list(match.groups()))\n",
    "\n",
    "mpR = {}\n",
    "mpL = {}\n",
    "for index, row in enumerate(result):\n",
    "    mpR[result[index][0]] = result[index][2]\n",
    "    mpL[result[index][0]] = result[index][1]\n",
    "\n",
    "starts = [key for key in mpR.keys() if key.endswith('A')]\n",
    "path = True\n",
    "i = 0\n",
    "printer = 0\n",
    "cycle = [0] * len(starts)\n",
    "\n",
    "for index, pos in enumerate(starts): \n",
    "    last = 0\n",
    "    timer = 0\n",
    "    while path:\n",
    "        if starts[index][2] == \"Z\":\n",
    "            if cycle[index] == (ans-last):\n",
    "                break\n",
    "            else:\n",
    "                cycle[index] = ans - last\n",
    "                last = ans\n",
    "        \n",
    "        if i == len(LR):\n",
    "            i = 0\n",
    "   \n",
    "        if LR[i] == \"R\":\n",
    "            starts[index] = mpR[starts[index]]\n",
    "        else:\n",
    "            starts[index] = mpL[starts[index]]\n",
    "        ans +=1\n",
    "        i += 1\n",
    "\n",
    "print(math.lcm(*cycle))"
   ]
  }
 ],
 "metadata": {
  "kernelspec": {
   "display_name": "Python 3 (ipykernel)",
   "language": "python",
   "name": "python3"
  },
  "language_info": {
   "codemirror_mode": {
    "name": "ipython",
    "version": 3
   },
   "file_extension": ".py",
   "mimetype": "text/x-python",
   "name": "python",
   "nbconvert_exporter": "python",
   "pygments_lexer": "ipython3",
   "version": "3.9.7"
  }
 },
 "nbformat": 4,
 "nbformat_minor": 5
}
