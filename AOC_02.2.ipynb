{
 "cells": [
  {
   "cell_type": "code",
   "execution_count": 33,
   "id": "900dbcc4-7f80-47e3-a0d4-4e4026711732",
   "metadata": {},
   "outputs": [],
   "source": [
    "f = open(\"AOC2023_2.txt\").read()\n",
    "\n",
    "# exists: only 12 red cubes, 13 green cubes, and 14 blue cubes\n",
    "\n",
    "\n",
    "# Split the input string into a list of strings\n",
    "f = f.split('\\n')\n",
    "\n",
    "game_lim = {\n",
    "    'blue': 14,\n",
    "    'red': 12,\n",
    "    'green': 13,\n",
    "}"
   ]
  },
  {
   "cell_type": "code",
   "execution_count": 34,
   "id": "cf842fc7-0e44-4d25-8a26-938a89453ccc",
   "metadata": {},
   "outputs": [],
   "source": [
    "import re\n",
    "\n",
    "def find_numbers_with_keyword(keyword, input_string):\n",
    "    pattern = re.compile(r'(\\d+)\\s*' + re.escape(keyword))\n",
    "    matches = re.findall(pattern, input_string)\n",
    "    return [int(match) for match in matches]\n"
   ]
  },
  {
   "cell_type": "code",
   "execution_count": 38,
   "id": "f4e16ec6-f939-4eae-b0e6-62b82382201b",
   "metadata": {},
   "outputs": [
    {
     "name": "stdout",
     "output_type": "stream",
     "text": [
      "The value to submit is: 72596\n"
     ]
    }
   ],
   "source": [
    "count = 0\n",
    "for games in f:\n",
    "    game_count = 1\n",
    "    for keyword in game_lim.keys():\n",
    "        result = find_numbers_with_keyword(keyword, games)\n",
    "        game_count = game_count*max(result)\n",
    "    count += game_count\n",
    "\n",
    "print(\"The value to submit is: {}\" .format(count))"
   ]
  },
  {
   "cell_type": "code",
   "execution_count": null,
   "id": "d49e53da-32d3-44af-8b4a-bd09b38e48fb",
   "metadata": {},
   "outputs": [],
   "source": []
  }
 ],
 "metadata": {
  "kernelspec": {
   "display_name": "Python 3 (ipykernel)",
   "language": "python",
   "name": "python3"
  },
  "language_info": {
   "codemirror_mode": {
    "name": "ipython",
    "version": 3
   },
   "file_extension": ".py",
   "mimetype": "text/x-python",
   "name": "python",
   "nbconvert_exporter": "python",
   "pygments_lexer": "ipython3",
   "version": "3.9.7"
  }
 },
 "nbformat": 4,
 "nbformat_minor": 5
}
