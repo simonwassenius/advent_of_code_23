{
 "cells": [
  {
   "cell_type": "code",
   "execution_count": 192,
   "id": "9b07973e-78a6-46b2-8ad0-75bd6c5e92cc",
   "metadata": {},
   "outputs": [],
   "source": [
    "import re\n",
    "\n",
    "f = open(\"AOC2023_5.txt\").read()\n",
    "\n",
    "f_seeds = f.split(\"seeds: \")[1].split(\"seed-to-soil map:\")[0].strip().split()\n",
    "f_soil = f.split(\"soil map:\")[1].split(\"soil-to-fertilizer map:\")[0].strip().split('\\n')\n",
    "f_fert = f.split(\"soil-to-fertilizer map:\")[1].split(\"fertilizer-to-water map:\")[0].strip().split('\\n')\n",
    "f_water = f.split(\"fertilizer-to-water map:\")[1].split(\"water-to-light map:\")[0].strip().split('\\n')\n",
    "f_light = f.split(\"water-to-light map:\")[1].split(\"light-to-temperature map:\")[0].strip().split('\\n')\n",
    "f_T = f.split(\"light-to-temperature map:\")[1].split(\"temperature-to-humidity map:\")[0].strip().split('\\n')\n",
    "f_hum = f.split(\"temperature-to-humidity map:\")[1].split(\"humidity-to-location map:\")[0].strip().split('\\n')\n",
    "f_loc = f.split(\"humidity-to-location map:\")[1].strip().split('\\n')"
   ]
  },
  {
   "cell_type": "code",
   "execution_count": 193,
   "id": "96818248-45e1-4f0d-947b-d3b34a54fc9a",
   "metadata": {},
   "outputs": [
    {
     "name": "stdout",
     "output_type": "stream",
     "text": [
      "\n",
      "The answer is: 806029445\n"
     ]
    }
   ],
   "source": [
    "ans  = []\n",
    "for seed in f_seeds:\n",
    "    seed = int(seed)\n",
    "    for key in f_soil:\n",
    "        if int(key.split()[1]) <= int(seed) < int(key.split()[1])+int(key.split()[2]):\n",
    "            seed += int(key.split()[0]) - int(key.split()[1])\n",
    "            break    \n",
    "    \n",
    "    for key in f_fert:\n",
    "        if int(key.split()[1]) <= int(seed) < int(key.split()[1])+int(key.split()[2]):\n",
    "            seed += int(key.split()[0]) - int(key.split()[1])\n",
    "            break\n",
    "            \n",
    "    for key in f_water:\n",
    "        if int(key.split()[1]) <= int(seed) < int(key.split()[1])+int(key.split()[2]):\n",
    "            seed += int(key.split()[0]) - int(key.split()[1])\n",
    "            #print(\"\\n key is: {}\".format(key))\n",
    "            break\n",
    "    \n",
    "    for key in f_light:\n",
    "        if int(key.split()[1]) <= int(seed) < int(key.split()[1])+int(key.split()[2]):\n",
    "            seed += int(key.split()[0]) - int(key.split()[1])\n",
    "            break\n",
    "\n",
    "    for key in f_T:\n",
    "        if int(key.split()[1]) <= int(seed) < int(key.split()[1])+int(key.split()[2]):\n",
    "            seed += int(key.split()[0]) - int(key.split()[1])\n",
    "            break\n",
    "\n",
    "    for key in f_hum:\n",
    "        if int(key.split()[1]) <= int(seed) < int(key.split()[1])+int(key.split()[2]):\n",
    "            seed += int(key.split()[0]) - int(key.split()[1])\n",
    "            break\n",
    "\n",
    "    for key in f_loc:\n",
    "        if int(key.split()[1]) <= int(seed) < int(key.split()[1])+int(key.split()[2]):\n",
    "            seed += int(key.split()[0]) - int(key.split()[1])\n",
    "            break    \n",
    "    ans.append(seed)\n",
    "print(\"\\nThe answer is: {}\" .format(min(ans)))"
   ]
  },
  {
   "cell_type": "code",
   "execution_count": null,
   "id": "6dcd89e9-0ac0-4864-8242-906023629867",
   "metadata": {},
   "outputs": [],
   "source": []
  }
 ],
 "metadata": {
  "kernelspec": {
   "display_name": "Python 3 (ipykernel)",
   "language": "python",
   "name": "python3"
  },
  "language_info": {
   "codemirror_mode": {
    "name": "ipython",
    "version": 3
   },
   "file_extension": ".py",
   "mimetype": "text/x-python",
   "name": "python",
   "nbconvert_exporter": "python",
   "pygments_lexer": "ipython3",
   "version": "3.9.7"
  }
 },
 "nbformat": 4,
 "nbformat_minor": 5
}
