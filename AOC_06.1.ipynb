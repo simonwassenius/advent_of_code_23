{
 "cells": [
  {
   "cell_type": "code",
   "execution_count": 67,
   "id": "4b3bae86-05b4-4e46-8b05-d2d20ef78c4a",
   "metadata": {},
   "outputs": [
    {
     "name": "stdout",
     "output_type": "stream",
     "text": [
      "393120\n"
     ]
    }
   ],
   "source": [
    "f = open(\"AOC2023_6.txt\").read().split('\\n')\n",
    "t = f[0].split(\":\").pop(1).split()\n",
    "d = f[1].split(\":\").pop(1).split()\n",
    "# d = f.split(\"ce:\")\n",
    "ans = 1\n",
    "for race in range(len(d)):\n",
    "    win = 0\n",
    "    for time in range(int(t[race])):\n",
    "        if time*(int(t[race])-int(time)) > int(d[race]):\n",
    "            win += 1\n",
    "    ans *= win\n",
    "print(ans)"
   ]
  },
  {
   "cell_type": "code",
   "execution_count": null,
   "id": "568a7f7f-e3c8-4b50-ba53-cc7dceadb885",
   "metadata": {},
   "outputs": [],
   "source": []
  }
 ],
 "metadata": {
  "kernelspec": {
   "display_name": "Python 3 (ipykernel)",
   "language": "python",
   "name": "python3"
  },
  "language_info": {
   "codemirror_mode": {
    "name": "ipython",
    "version": 3
   },
   "file_extension": ".py",
   "mimetype": "text/x-python",
   "name": "python",
   "nbconvert_exporter": "python",
   "pygments_lexer": "ipython3",
   "version": "3.9.7"
  }
 },
 "nbformat": 4,
 "nbformat_minor": 5
}
