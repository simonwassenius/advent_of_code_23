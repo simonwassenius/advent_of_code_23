{
 "cells": [
  {
   "cell_type": "code",
   "execution_count": 72,
   "id": "39a90f96-a825-4169-9665-2ffdad5f8274",
   "metadata": {},
   "outputs": [
    {
     "data": {
      "text/plain": [
       "248029057"
      ]
     },
     "execution_count": 72,
     "metadata": {},
     "output_type": "execute_result"
    }
   ],
   "source": [
    "f = open(\"AOC2023_7.txt\").read().split('\\n')\n",
    "\n",
    "def score(hand):\n",
    "\n",
    "    number_dict = {\n",
    "    '1': '1', '2': '02','3': '03','4': '04','5': '05','6': '06','7': '07', '8': '08', '9': '09','T': '10', 'Q':'12', 'K':'13', 'A':'14', 'J': '00'}\n",
    "    two = 0\n",
    "    three = 0\n",
    "    scored = False\n",
    "    score = int(''.join([number_dict[digit] for digit in hand]))\n",
    "    for value in number_dict:\n",
    "        if value != 'J':\n",
    "            # print(value, end=\"o\")\n",
    "            if hand.count(value) + hand.count('J') == 5 or hand.count('J') >= 4:\n",
    "                score += 600000000000\n",
    "                scored = True\n",
    "                break\n",
    "            elif hand.count(value) + hand.count('J') == 4:\n",
    "                score += 500000000000\n",
    "                scored = True\n",
    "                break\n",
    "            elif hand.count(value) == 3:\n",
    "                three += 1\n",
    "            elif hand.count(value) == 2:\n",
    "                two += 1\n",
    "    if scored == False:        \n",
    "        if (three == 1 and two == 1) or (two == 2 and hand.count('J') == 1):\n",
    "            score += 400000000000 \n",
    "        elif (three == 1) or (two == 1 and hand.count('J') == 1) or (hand.count('J') == 2):\n",
    "            score += 300000000000 \n",
    "        elif two == 2:\n",
    "            score += 200000000000\n",
    "        elif two == 1 or hand.count('J') == 1:\n",
    "            score += 100000000000          \n",
    "    return score\n",
    "    \n",
    "formatted_f = [[s.split()[0], s.split()[1], score(s.split()[0])] for s in f]\n",
    "sorted_f = sorted(formatted_f, key=lambda x: x[2], reverse=False)\n",
    "ans = 0\n",
    "for index, points in enumerate(sorted_f, start=1):\n",
    "    ans += index * int(points[1])\n",
    "\n",
    "ans"
   ]
  },
  {
   "cell_type": "code",
   "execution_count": null,
   "id": "1b02d08b-9d77-46e0-89bf-01374dfb395d",
   "metadata": {},
   "outputs": [],
   "source": []
  }
 ],
 "metadata": {
  "kernelspec": {
   "display_name": "Python 3 (ipykernel)",
   "language": "python",
   "name": "python3"
  },
  "language_info": {
   "codemirror_mode": {
    "name": "ipython",
    "version": 3
   },
   "file_extension": ".py",
   "mimetype": "text/x-python",
   "name": "python",
   "nbconvert_exporter": "python",
   "pygments_lexer": "ipython3",
   "version": "3.9.7"
  }
 },
 "nbformat": 4,
 "nbformat_minor": 5
}
